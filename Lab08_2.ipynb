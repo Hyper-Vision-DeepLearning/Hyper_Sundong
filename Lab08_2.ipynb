{
 "cells": [
  {
   "cell_type": "markdown",
   "metadata": {
    "id": "8wvTMY6BCXcs"
   },
   "source": [
    "이번 Lab을 통해 XOR 문제를 다층 퍼셉트론으로 구현해보겠습니다!"
   ]
  },
  {
   "cell_type": "code",
   "execution_count": 1,
   "metadata": {
    "id": "fNRRWU2mCS1R"
   },
   "outputs": [],
   "source": [
    "import torch\n",
    "import torch.nn as nn"
   ]
  },
  {
   "cell_type": "code",
   "execution_count": 2,
   "metadata": {
    "id": "u5QGlnWPCS1S"
   },
   "outputs": [],
   "source": [
    "device = 'cuda' if torch.cuda.is_available() else 'cpu'\n",
    "\n",
    "# for reproducibility\n",
    "torch.manual_seed(777)\n",
    "if device == 'cuda':\n",
    "    torch.cuda.manual_seed_all(777)"
   ]
  },
  {
   "cell_type": "markdown",
   "metadata": {
    "id": "EVMMZlZbCtMd"
   },
   "source": [
    "XOR 문제를 풀기 위한 입력과 출력을 정의해줍니다."
   ]
  },
  {
   "cell_type": "code",
   "execution_count": 7,
   "metadata": {
    "id": "Y9rTkJw_CS1T"
   },
   "outputs": [],
   "source": [
    "X = torch.FloatTensor([[0, 0], [0, 1], [1, 0], [1, 1]]).to(device)\n",
    "Y = torch.FloatTensor([[0], [1], [1], [0]]).to(device)"
   ]
  },
  {
   "cell_type": "markdown",
   "metadata": {
    "id": "NDcp9ik6DCaQ"
   },
   "source": [
    "입력층, 은닉층 3개, 출력층을 가지는 인공신경망을 구현해보겠습니다."
   ]
  },
  {
   "cell_type": "code",
   "execution_count": 8,
   "metadata": {
    "id": "P1U4O5_MD2wD"
   },
   "outputs": [],
   "source": [
    "model = nn.Sequential(\n",
    "          nn.Linear(2, 10, bias=True), # input layer의 크기를 생각해보세요.\n",
    "          nn.Sigmoid(),\n",
    "          nn.Linear(10, 10, bias=True), \n",
    "          nn.Sigmoid(),\n",
    "          nn.Linear(10, 10, bias=True), \n",
    "          nn.Sigmoid(),\n",
    "          nn.Linear(10, 1, bias=True), # output layer의 크기를 생각해보세요.\n",
    "          nn.Sigmoid()\n",
    "          ).to(device)"
   ]
  },
  {
   "cell_type": "code",
   "execution_count": 9,
   "metadata": {
    "id": "Q1A6-bmjJULd"
   },
   "outputs": [
    {
     "data": {
      "text/plain": [
       "'\\n# 이렇게 구현해도 됩니다.\\n# nn layers\\nlinear1 = torch.nn.Linear(#이 부분을 채워넣으세요, 10, bias=True) # input layer의 크기를 생각해보세요.\\nlinear2 = torch.nn.Linear(#이 부분을 채워넣으세요, 10, bias=True)\\nlinear3 = torch.nn.Linear(#이 부분을 채워넣으세요, 10, bias=True)\\nlinear4 = torch.nn.Linear(#이 부분을 채워넣으세요, #이 부분을 채워넣으세요, bias=True) # output layer의 크기를 생각해보세요.\\nsigmoid = torch.nn.Sigmoid()\\n\\n# model\\nmodel = torch.nn.Sequential(linear1, sigmoid, linear2, sigmoid, linear3, sigmoid, linear4, sigmoid).to(device)\\n'"
      ]
     },
     "execution_count": 9,
     "metadata": {},
     "output_type": "execute_result"
    }
   ],
   "source": [
    "\"\"\"\n",
    "# 이렇게 구현해도 됩니다.\n",
    "# nn layers\n",
    "linear1 = torch.nn.Linear(#이 부분을 채워넣으세요, 10, bias=True) # input layer의 크기를 생각해보세요.\n",
    "linear2 = torch.nn.Linear(#이 부분을 채워넣으세요, 10, bias=True)\n",
    "linear3 = torch.nn.Linear(#이 부분을 채워넣으세요, 10, bias=True)\n",
    "linear4 = torch.nn.Linear(#이 부분을 채워넣으세요, #이 부분을 채워넣으세요, bias=True) # output layer의 크기를 생각해보세요.\n",
    "sigmoid = torch.nn.Sigmoid()\n",
    "\n",
    "# model\n",
    "model = torch.nn.Sequential(linear1, sigmoid, linear2, sigmoid, linear3, sigmoid, linear4, sigmoid).to(device)\n",
    "\"\"\""
   ]
  },
  {
   "cell_type": "markdown",
   "metadata": {
    "id": "7yG79vd1FncB"
   },
   "source": [
    "이제 비용 함수와 옵타마이저를 선언합니다."
   ]
  },
  {
   "cell_type": "code",
   "execution_count": 10,
   "metadata": {
    "id": "c5brC6ctCS1U"
   },
   "outputs": [],
   "source": [
    "# define cost/loss & optimizer\n",
    "criterion = torch.nn.BCELoss().to(device) # 이진 분류에서 사용하는 크로스엔트로피 함수(Binary Cross Entropy)를 사용하겠습니다.\n",
    "optimizer = torch.optim.SGD(model.parameters(), lr=1) # SGD optimizer를 사용하고 learning rate는 1로 하겠습니다."
   ]
  },
  {
   "cell_type": "markdown",
   "metadata": {
    "id": "ZPwauumjFpV6"
   },
   "source": [
    "총 10,001번의 에포크를 수행합니다. 각 에포크마다 역전파가 수행된다고 보면 되겠습니다."
   ]
  },
  {
   "cell_type": "code",
   "execution_count": 11,
   "metadata": {
    "colab": {
     "base_uri": "https://localhost:8080/"
    },
    "id": "KvDB74ydCS1U",
    "outputId": "6870258c-d300-47c1-feca-ac640245ab3b"
   },
   "outputs": [
    {
     "name": "stdout",
     "output_type": "stream",
     "text": [
      "0 0.7408678531646729\n",
      "100 0.6931207776069641\n",
      "200 0.6931231021881104\n",
      "300 0.6931334137916565\n",
      "400 0.6931451559066772\n",
      "500 0.6931242942810059\n",
      "600 0.69315105676651\n",
      "700 0.6931241154670715\n",
      "800 0.6931461691856384\n",
      "900 0.6931164264678955\n",
      "1000 0.6931250095367432\n",
      "1100 0.6931077241897583\n",
      "1200 0.6931201815605164\n",
      "1300 0.6931212544441223\n",
      "1400 0.6931224465370178\n",
      "1500 0.6931343674659729\n",
      "1600 0.6931078433990479\n",
      "1700 0.6931255459785461\n",
      "1800 0.6930794715881348\n",
      "1900 0.6930876970291138\n",
      "2000 0.6930941343307495\n",
      "2100 0.6930955648422241\n",
      "2200 0.6930923461914062\n",
      "2300 0.6930643916130066\n",
      "2400 0.6930633783340454\n",
      "2500 0.6930414438247681\n",
      "2600 0.693047046661377\n",
      "2700 0.6930262446403503\n",
      "2800 0.6930091381072998\n",
      "2900 0.6929957866668701\n",
      "3000 0.6929850578308105\n",
      "3100 0.6929338574409485\n",
      "3200 0.692891001701355\n",
      "3300 0.6928637027740479\n",
      "3400 0.6928143501281738\n",
      "3500 0.6927416324615479\n",
      "3600 0.6926450729370117\n",
      "3700 0.6925110816955566\n",
      "3800 0.6922191381454468\n",
      "3900 0.6918760538101196\n",
      "4000 0.6910688877105713\n",
      "4100 0.689216136932373\n",
      "4200 0.6831249594688416\n",
      "4300 0.63112473487854\n",
      "4400 0.06989309936761856\n",
      "4500 0.01009859424084425\n",
      "4600 0.004761810880154371\n",
      "4700 0.0030117472633719444\n",
      "4800 0.00216586422175169\n",
      "4900 0.0016830998938530684\n",
      "5000 0.001364896772429347\n",
      "5100 0.0011471776524558663\n",
      "5200 0.0009837911929935217\n",
      "5300 0.0008616133127361536\n",
      "5400 0.0007669376209378242\n",
      "5500 0.0006872433586977422\n",
      "5600 0.0006225265096873045\n",
      "5700 0.0005709202378056943\n",
      "5800 0.0005237450823187828\n",
      "5900 0.0004852344864048064\n",
      "6000 0.0004512574814725667\n",
      "6100 0.00042312577716074884\n",
      "6200 0.0003956358414143324\n",
      "6300 0.00037330464692786336\n",
      "6400 0.00035207695327699184\n",
      "6500 0.0003341740812174976\n",
      "6600 0.00031662924448028207\n",
      "6700 0.00030200628680177033\n",
      "6800 0.0002881736436393112\n",
      "6900 0.0002747734251897782\n",
      "7000 0.000263907277258113\n",
      "7100 0.00025326490867882967\n",
      "7200 0.0002430698077660054\n",
      "7300 0.0002336200122954324\n",
      "7400 0.00022534783056471497\n",
      "7500 0.0002169266517739743\n",
      "7600 0.0002102941507473588\n",
      "7700 0.00020245436462573707\n",
      "7800 0.00019619453814812005\n",
      "7900 0.00019048620015382767\n",
      "8000 0.00018453941447660327\n",
      "8100 0.00017886096611618996\n",
      "8200 0.00017364457016810775\n",
      "8300 0.00016914360458031297\n",
      "8400 0.00016446379595436156\n",
      "8500 0.0001594561035744846\n",
      "8600 0.00015581963816657662\n",
      "8700 0.00015212350990623236\n",
      "8800 0.00014811447181273252\n",
      "8900 0.00014476117212325335\n",
      "9000 0.00014119924162514508\n",
      "9100 0.00013786088675260544\n",
      "9200 0.0001344927295576781\n",
      "9300 0.00013175052299629897\n",
      "9400 0.00012863572919741273\n",
      "9500 0.00012607238022610545\n",
      "9600 0.00012341960973571986\n",
      "9700 0.00012115434219595045\n",
      "9800 0.00011863572581205517\n",
      "9900 0.00011610220826696604\n",
      "10000 0.00011353888112353161\n"
     ]
    }
   ],
   "source": [
    "for step in range(10001):\n",
    "    optimizer.zero_grad()  # gradient를 0으로 초기화\n",
    "    hypothesis = model(X) # 모델을 생성해서 hypothesis를 구해보세요.\n",
    "\n",
    "    # cost/loss function\n",
    "    cost = criterion(hypothesis, Y) # 위에서 정의한 비용함수를 사용하세요.\n",
    "    cost.backward()  # 비용 함수를 미분하여 gradient 계산\n",
    "    optimizer.step() # W와 b를 업데이트\n",
    "\n",
    "    if step % 100 == 0:\n",
    "        print(step, cost.item())"
   ]
  },
  {
   "cell_type": "markdown",
   "metadata": {
    "id": "DWvTYVIGFgYX"
   },
   "source": [
    "이제 모델이 XOR 문제를 풀 수 있는지 테스트 해봅시다."
   ]
  },
  {
   "cell_type": "code",
   "execution_count": 12,
   "metadata": {
    "colab": {
     "base_uri": "https://localhost:8080/"
    },
    "id": "Erxp_dapCS1V",
    "outputId": "f1d040d0-41f6-4990-9169-106d5b75229d"
   },
   "outputs": [
    {
     "name": "stdout",
     "output_type": "stream",
     "text": [
      "\n",
      "Hypothesis:  [[6.9727197e-05]\n",
      " [9.9988103e-01]\n",
      " [9.9989235e-01]\n",
      " [1.5759321e-04]] \n",
      "Correct:  [[0.]\n",
      " [1.]\n",
      " [1.]\n",
      " [0.]] \n",
      "Accuracy:  1.0\n"
     ]
    }
   ],
   "source": [
    "# Accuracy computation\n",
    "# True if hypothesis>0.5 else False\n",
    "with torch.no_grad():\n",
    "    hypothesis = model(X)\n",
    "    predicted = (hypothesis > 0.5).float()\n",
    "    accuracy = (predicted == Y).float().mean()\n",
    "    print('\\nHypothesis: ', hypothesis.detach().cpu().numpy(), '\\nCorrect: ', predicted.detach().cpu().numpy(), '\\nAccuracy: ', accuracy.item())"
   ]
  },
  {
   "cell_type": "markdown",
   "metadata": {
    "id": "zuG7sedvQYAv"
   },
   "source": [
    "실제값은 0, 1, 1, 0이며 예측값은 0, 1, 1, 0으로 문제를 해결하는 모습을 보여줍니다."
   ]
  },
  {
   "cell_type": "markdown",
   "metadata": {
    "id": "h4ZOw5LyQurv"
   },
   "source": [
    "Q1. Backpropagation이란?\n",
    "\n",
    "=> 역순으로 진행하면서 오차를 이용해 가중치를 업데이트하는 방법"
   ]
  },
  {
   "cell_type": "markdown",
   "metadata": {
    "id": "O41kkNU6QzMV"
   },
   "source": [
    "Q2. Backpropagation은 어떤 방식을 이용해 weight, bias 같은 변수들을 업데이트 할까요?\n",
    "\n",
    "=> Chain Rule을 이용하여 업데이트한다. "
   ]
  },
  {
   "cell_type": "code",
   "execution_count": null,
   "metadata": {},
   "outputs": [],
   "source": []
  }
 ],
 "metadata": {
  "accelerator": "GPU",
  "colab": {
   "collapsed_sections": [],
   "name": "Lab08_2.ipynb",
   "provenance": []
  },
  "kernelspec": {
   "display_name": "PyTorch",
   "language": "python",
   "name": "pytorch"
  },
  "language_info": {
   "codemirror_mode": {
    "name": "ipython",
    "version": 3
   },
   "file_extension": ".py",
   "mimetype": "text/x-python",
   "name": "python",
   "nbconvert_exporter": "python",
   "pygments_lexer": "ipython3",
   "version": "3.7.11"
  }
 },
 "nbformat": 4,
 "nbformat_minor": 1
}
